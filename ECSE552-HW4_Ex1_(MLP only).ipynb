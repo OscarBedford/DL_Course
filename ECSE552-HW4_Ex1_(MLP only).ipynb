{
 "cells": [
  {
   "cell_type": "markdown",
   "id": "db1094d0",
   "metadata": {},
   "source": [
    "# MODEL 1: Linear solution (MLP with Dropout)"
   ]
  },
  {
   "cell_type": "markdown",
   "id": "cee8ec23",
   "metadata": {},
   "source": [
    "In this exercise, we are asked to build a `Seq2Vec` model using only nn.Linear() layers. Using the values of a set of features at timepoints $t-k$ through $t-1$, we are asked to predict the following targets at timepoint $t$: \n",
    "\n",
    "- `p(mbar)`, atmospheric pressure\n",
    "- `T (degC)`, air temperature\n",
    "- `rh (%)`, relative humidity\n",
    "- `wv(m/s)`, wind velocity\n",
    "\n",
    "Because an `MLP` can only take a fixed number of values, we will first initialize the model at $k = 4$. Then, once we get that model working, we will set $k$ as a hyperparameter and iterate through `{4, 6, 8}`, along with two learning rate values`{0.001, 0.002}`and two dropout values`{0.2, 0.5}`."
   ]
  },
  {
   "cell_type": "markdown",
   "id": "a03fbc51",
   "metadata": {},
   "source": [
    "## We define the first model using k = 4"
   ]
  },
  {
   "cell_type": "code",
   "execution_count": 1,
   "id": "fd8f22b7",
   "metadata": {},
   "outputs": [
    {
     "name": "stdout",
     "output_type": "stream",
     "text": [
      "C:\\Users\\usuario\\RecogniChess\n"
     ]
    }
   ],
   "source": [
    "# Let's check our current working directory \n",
    "import os\n",
    "print(os.getcwd())"
   ]
  },
  {
   "cell_type": "code",
   "execution_count": 2,
   "id": "413dc9d7",
   "metadata": {},
   "outputs": [],
   "source": [
    "# First we will import the necessary dependencies\n",
    "%matplotlib inline\n",
    "import torch\n",
    "import torch.nn as nn\n",
    "import torch.optim as optim\n",
    "import torchmetrics\n",
    "import torch.nn.functional as F\n",
    "from torch.utils.data import Dataset\n",
    "from torch.utils.data import DataLoader\n",
    "from torchvision import transforms\n",
    "from torch.utils.data import SubsetRandomSampler\n",
    "import pytorch_lightning as L\n",
    "import torch.utils.data \n",
    "\n",
    "import numpy as np\n",
    "import matplotlib.pyplot as plt\n",
    "import pandas as pd\n",
    "\n",
    "from sklearn.preprocessing import MinMaxScaler"
   ]
  },
  {
   "cell_type": "code",
   "execution_count": 3,
   "id": "978040b5",
   "metadata": {},
   "outputs": [
    {
     "name": "stdout",
     "output_type": "stream",
     "text": [
      "Using GPU: NVIDIA GeForce GTX 960M\n"
     ]
    }
   ],
   "source": [
    "# We determine whether CUDA is available \n",
    "if torch.cuda.is_available():\n",
    "    device = torch.device(\"cuda\")\n",
    "    print(f\"Using GPU: {torch.cuda.get_device_name(device)}\")\n",
    "else:\n",
    "    device = torch.device(\"cpu\")\n",
    "    print(\"Using CPU\")"
   ]
  },
  {
   "cell_type": "code",
   "execution_count": 4,
   "id": "477956ef",
   "metadata": {},
   "outputs": [
    {
     "name": "stdout",
     "output_type": "stream",
     "text": [
      "CUDA cache used: 0.0 MB\n",
      "CUDA RAM used: 0.0 MB\n"
     ]
    }
   ],
   "source": [
    "# We empty the CUDA cache for good measure and verify cache and RAM are at zero\n",
    "torch.cuda.empty_cache()\n",
    "print(f\"CUDA cache used: {torch.cuda.memory_reserved() / 1e6:.1f} MB\") \n",
    "print(f\"CUDA RAM used: {torch.cuda.memory_allocated() / 1e6:.1f} MB\")"
   ]
  },
  {
   "cell_type": "markdown",
   "id": "3867c3c8",
   "metadata": {},
   "source": [
    "We are ready to initialize our model class. We will use a very simple architecture with only one hidden layer containing `100` units and an output layer that will output `4` predictions, one per target. The hidden layer output will go through a ReLU activation function, and the output layer will go through a sigmoid function to yield the predicted values for each of our four target variables. Dropout will be set at `0.2` for now. Note that we will define $k = 4$ right away, in the very first line, in order to establish the input features as $15$ * $k$ right off the bat:"
   ]
  },
  {
   "cell_type": "code",
   "execution_count": 5,
   "id": "b503d1c3",
   "metadata": {},
   "outputs": [],
   "source": [
    "# We define our model class\n",
    "\n",
    "k = 4 # We will set k to be the number of timesteps that we will consider prior to time t\n",
    "in_features = 15\n",
    "\n",
    "class MLP(nn.Module):\n",
    "    def __init__(self, in_features, hidden_features, out_features, dropout_rate):\n",
    "        super().__init__()\n",
    "        self.fc1 = nn.Linear(in_features, hidden_features)\n",
    "        self.fc2 = nn.Linear(hidden_features, out_features)\n",
    "        self.dropout = nn.Dropout(dropout_rate)\n",
    "        \n",
    "    def forward(self, x):\n",
    "        x = x.view(-1, k*in_features) # reshape input tensor\n",
    "        x = F.relu(self.dropout(self.fc1(x)))\n",
    "        x = self.fc2(x)\n",
    "        x = torch.sigmoid(x)\n",
    "        return x\n",
    "        \n",
    "torch.manual_seed(42)\n",
    "model = MLP(in_features=15*k, hidden_features=100, out_features=4, dropout_rate=0.2).to(device)"
   ]
  },
  {
   "cell_type": "code",
   "execution_count": 6,
   "id": "0e881dc0",
   "metadata": {},
   "outputs": [
    {
     "data": {
      "text/plain": [
       "MLP(\n",
       "  (fc1): Linear(in_features=60, out_features=100, bias=True)\n",
       "  (fc2): Linear(in_features=100, out_features=4, bias=True)\n",
       "  (dropout): Dropout(p=0.2, inplace=False)\n",
       ")"
      ]
     },
     "execution_count": 6,
     "metadata": {},
     "output_type": "execute_result"
    }
   ],
   "source": [
    "# Let's take a look at the model architecture\n",
    "model"
   ]
  },
  {
   "cell_type": "markdown",
   "id": "654002f4",
   "metadata": {},
   "source": [
    "We see that the input features to the model will be `60`. This means that we will concatenate the values of our `15` features four times (as $k = 4$), in sequential order, into a single array that will be passed to the model. This is not the best way to take into account previous timepoints, but it is one of the few viable options that an `MLP` allows for timeseries data. As a limitation to this approach, we note that this can only work for small values of $k$, as every new timestep increases the feature set by `15`, in our case.\n",
    "\n",
    "Before we can proceed to define our Dataset subclass, which will be used to perform the following operations: \n",
    "\n",
    "- Use pandas to import the CSV file containing the **training** data from its local directory \n",
    "- Compute a new feature based on the timestamp column for the `hour` at which the measurements were taken\n",
    "- Use MinMax scaling to normalize the data (see below)\n",
    "- Within the Dataset class, divide the data columns given by the pandas df into **inputs** and **targets**\n",
    "- Convert the resulting objects into `torch.tensors` that can be readily passed into DataLoaders"
   ]
  },
  {
   "cell_type": "code",
   "execution_count": 7,
   "id": "6287514f",
   "metadata": {},
   "outputs": [],
   "source": [
    "# We import the training data\n",
    "df = pd.read_csv(r\"C:\\Users\\usuario\\RecogniChess\\HW4\\weather_train.csv\", header = 0, parse_dates = [0])"
   ]
  },
  {
   "cell_type": "code",
   "execution_count": 8,
   "id": "17cf142f",
   "metadata": {},
   "outputs": [
    {
     "data": {
      "text/html": [
       "<div>\n",
       "<style scoped>\n",
       "    .dataframe tbody tr th:only-of-type {\n",
       "        vertical-align: middle;\n",
       "    }\n",
       "\n",
       "    .dataframe tbody tr th {\n",
       "        vertical-align: top;\n",
       "    }\n",
       "\n",
       "    .dataframe thead th {\n",
       "        text-align: right;\n",
       "    }\n",
       "</style>\n",
       "<table border=\"1\" class=\"dataframe\">\n",
       "  <thead>\n",
       "    <tr style=\"text-align: right;\">\n",
       "      <th></th>\n",
       "      <th>Date Time</th>\n",
       "      <th>p (mbar)</th>\n",
       "      <th>T (degC)</th>\n",
       "      <th>Tpot (K)</th>\n",
       "      <th>Tdew (degC)</th>\n",
       "      <th>rh (%)</th>\n",
       "      <th>VPmax (mbar)</th>\n",
       "      <th>VPact (mbar)</th>\n",
       "      <th>VPdef (mbar)</th>\n",
       "      <th>sh (g/kg)</th>\n",
       "      <th>H2OC (mmol/mol)</th>\n",
       "      <th>rho (g/m**3)</th>\n",
       "      <th>wv (m/s)</th>\n",
       "      <th>max. wv (m/s)</th>\n",
       "      <th>wd (deg)</th>\n",
       "    </tr>\n",
       "  </thead>\n",
       "  <tbody>\n",
       "    <tr>\n",
       "      <th>0</th>\n",
       "      <td>2009-01-01 01:00:00</td>\n",
       "      <td>996.50</td>\n",
       "      <td>-8.05</td>\n",
       "      <td>265.38</td>\n",
       "      <td>-8.78</td>\n",
       "      <td>94.4</td>\n",
       "      <td>3.33</td>\n",
       "      <td>3.14</td>\n",
       "      <td>0.19</td>\n",
       "      <td>1.96</td>\n",
       "      <td>3.15</td>\n",
       "      <td>1307.86</td>\n",
       "      <td>0.21</td>\n",
       "      <td>0.63</td>\n",
       "      <td>192.7</td>\n",
       "    </tr>\n",
       "    <tr>\n",
       "      <th>1</th>\n",
       "      <td>2009-01-01 02:00:00</td>\n",
       "      <td>996.62</td>\n",
       "      <td>-8.88</td>\n",
       "      <td>264.54</td>\n",
       "      <td>-9.77</td>\n",
       "      <td>93.2</td>\n",
       "      <td>3.12</td>\n",
       "      <td>2.90</td>\n",
       "      <td>0.21</td>\n",
       "      <td>1.81</td>\n",
       "      <td>2.91</td>\n",
       "      <td>1312.25</td>\n",
       "      <td>0.25</td>\n",
       "      <td>0.63</td>\n",
       "      <td>190.3</td>\n",
       "    </tr>\n",
       "    <tr>\n",
       "      <th>2</th>\n",
       "      <td>2009-01-01 03:00:00</td>\n",
       "      <td>996.84</td>\n",
       "      <td>-8.81</td>\n",
       "      <td>264.59</td>\n",
       "      <td>-9.66</td>\n",
       "      <td>93.5</td>\n",
       "      <td>3.13</td>\n",
       "      <td>2.93</td>\n",
       "      <td>0.20</td>\n",
       "      <td>1.83</td>\n",
       "      <td>2.94</td>\n",
       "      <td>1312.18</td>\n",
       "      <td>0.18</td>\n",
       "      <td>0.63</td>\n",
       "      <td>167.2</td>\n",
       "    </tr>\n",
       "    <tr>\n",
       "      <th>3</th>\n",
       "      <td>2009-01-01 04:00:00</td>\n",
       "      <td>996.99</td>\n",
       "      <td>-9.05</td>\n",
       "      <td>264.34</td>\n",
       "      <td>-10.02</td>\n",
       "      <td>92.6</td>\n",
       "      <td>3.07</td>\n",
       "      <td>2.85</td>\n",
       "      <td>0.23</td>\n",
       "      <td>1.78</td>\n",
       "      <td>2.85</td>\n",
       "      <td>1313.61</td>\n",
       "      <td>0.10</td>\n",
       "      <td>0.38</td>\n",
       "      <td>240.0</td>\n",
       "    </tr>\n",
       "    <tr>\n",
       "      <th>4</th>\n",
       "      <td>2009-01-01 05:00:00</td>\n",
       "      <td>997.46</td>\n",
       "      <td>-9.63</td>\n",
       "      <td>263.72</td>\n",
       "      <td>-10.65</td>\n",
       "      <td>92.2</td>\n",
       "      <td>2.94</td>\n",
       "      <td>2.71</td>\n",
       "      <td>0.23</td>\n",
       "      <td>1.69</td>\n",
       "      <td>2.71</td>\n",
       "      <td>1317.19</td>\n",
       "      <td>0.40</td>\n",
       "      <td>0.88</td>\n",
       "      <td>157.0</td>\n",
       "    </tr>\n",
       "  </tbody>\n",
       "</table>\n",
       "</div>"
      ],
      "text/plain": [
       "            Date Time  p (mbar)  T (degC)  Tpot (K)  Tdew (degC)  rh (%)  \\\n",
       "0 2009-01-01 01:00:00    996.50     -8.05    265.38        -8.78    94.4   \n",
       "1 2009-01-01 02:00:00    996.62     -8.88    264.54        -9.77    93.2   \n",
       "2 2009-01-01 03:00:00    996.84     -8.81    264.59        -9.66    93.5   \n",
       "3 2009-01-01 04:00:00    996.99     -9.05    264.34       -10.02    92.6   \n",
       "4 2009-01-01 05:00:00    997.46     -9.63    263.72       -10.65    92.2   \n",
       "\n",
       "   VPmax (mbar)  VPact (mbar)  VPdef (mbar)  sh (g/kg)  H2OC (mmol/mol)  \\\n",
       "0          3.33          3.14          0.19       1.96             3.15   \n",
       "1          3.12          2.90          0.21       1.81             2.91   \n",
       "2          3.13          2.93          0.20       1.83             2.94   \n",
       "3          3.07          2.85          0.23       1.78             2.85   \n",
       "4          2.94          2.71          0.23       1.69             2.71   \n",
       "\n",
       "   rho (g/m**3)  wv (m/s)  max. wv (m/s)  wd (deg)  \n",
       "0       1307.86      0.21           0.63     192.7  \n",
       "1       1312.25      0.25           0.63     190.3  \n",
       "2       1312.18      0.18           0.63     167.2  \n",
       "3       1313.61      0.10           0.38     240.0  \n",
       "4       1317.19      0.40           0.88     157.0  "
      ]
     },
     "execution_count": 8,
     "metadata": {},
     "output_type": "execute_result"
    }
   ],
   "source": [
    "# Let's take a look\n",
    "df.head()"
   ]
  },
  {
   "cell_type": "markdown",
   "id": "44e0d149",
   "metadata": {},
   "source": [
    "Data looks good, but we need to apply a couple of changes: \n",
    "- First, we need to compute a new variable called 'hour' that will indicate the time of the day. For this we will use the very first column, 'Date Time', which already contains this info. However, once we have 'hour' we don't need 'Date Time' anymore, so we will switch them.\n",
    "- Second, we seriously need to minmax scale these columns because they're on vastly different scales right now."
   ]
  },
  {
   "cell_type": "code",
   "execution_count": 9,
   "id": "c3b9ff86",
   "metadata": {},
   "outputs": [],
   "source": [
    "# We create the hour column\n",
    "df['Date Time'] = pd.to_datetime(df['Date Time'])\n",
    "hour_col = pd.Series(df['Date Time'].dt.hour, name='hour')\n",
    "df = pd.concat([hour_col, df.iloc[:, 1:]], axis=1)"
   ]
  },
  {
   "cell_type": "code",
   "execution_count": 10,
   "id": "66ad723b",
   "metadata": {},
   "outputs": [
    {
     "data": {
      "text/html": [
       "<div>\n",
       "<style scoped>\n",
       "    .dataframe tbody tr th:only-of-type {\n",
       "        vertical-align: middle;\n",
       "    }\n",
       "\n",
       "    .dataframe tbody tr th {\n",
       "        vertical-align: top;\n",
       "    }\n",
       "\n",
       "    .dataframe thead th {\n",
       "        text-align: right;\n",
       "    }\n",
       "</style>\n",
       "<table border=\"1\" class=\"dataframe\">\n",
       "  <thead>\n",
       "    <tr style=\"text-align: right;\">\n",
       "      <th></th>\n",
       "      <th>hour</th>\n",
       "      <th>p (mbar)</th>\n",
       "      <th>T (degC)</th>\n",
       "      <th>Tpot (K)</th>\n",
       "      <th>Tdew (degC)</th>\n",
       "      <th>rh (%)</th>\n",
       "      <th>VPmax (mbar)</th>\n",
       "      <th>VPact (mbar)</th>\n",
       "      <th>VPdef (mbar)</th>\n",
       "      <th>sh (g/kg)</th>\n",
       "      <th>H2OC (mmol/mol)</th>\n",
       "      <th>rho (g/m**3)</th>\n",
       "      <th>wv (m/s)</th>\n",
       "      <th>max. wv (m/s)</th>\n",
       "      <th>wd (deg)</th>\n",
       "    </tr>\n",
       "  </thead>\n",
       "  <tbody>\n",
       "    <tr>\n",
       "      <th>0</th>\n",
       "      <td>1</td>\n",
       "      <td>996.50</td>\n",
       "      <td>-8.05</td>\n",
       "      <td>265.38</td>\n",
       "      <td>-8.78</td>\n",
       "      <td>94.4</td>\n",
       "      <td>3.33</td>\n",
       "      <td>3.14</td>\n",
       "      <td>0.19</td>\n",
       "      <td>1.96</td>\n",
       "      <td>3.15</td>\n",
       "      <td>1307.86</td>\n",
       "      <td>0.21</td>\n",
       "      <td>0.63</td>\n",
       "      <td>192.7</td>\n",
       "    </tr>\n",
       "    <tr>\n",
       "      <th>1</th>\n",
       "      <td>2</td>\n",
       "      <td>996.62</td>\n",
       "      <td>-8.88</td>\n",
       "      <td>264.54</td>\n",
       "      <td>-9.77</td>\n",
       "      <td>93.2</td>\n",
       "      <td>3.12</td>\n",
       "      <td>2.90</td>\n",
       "      <td>0.21</td>\n",
       "      <td>1.81</td>\n",
       "      <td>2.91</td>\n",
       "      <td>1312.25</td>\n",
       "      <td>0.25</td>\n",
       "      <td>0.63</td>\n",
       "      <td>190.3</td>\n",
       "    </tr>\n",
       "    <tr>\n",
       "      <th>2</th>\n",
       "      <td>3</td>\n",
       "      <td>996.84</td>\n",
       "      <td>-8.81</td>\n",
       "      <td>264.59</td>\n",
       "      <td>-9.66</td>\n",
       "      <td>93.5</td>\n",
       "      <td>3.13</td>\n",
       "      <td>2.93</td>\n",
       "      <td>0.20</td>\n",
       "      <td>1.83</td>\n",
       "      <td>2.94</td>\n",
       "      <td>1312.18</td>\n",
       "      <td>0.18</td>\n",
       "      <td>0.63</td>\n",
       "      <td>167.2</td>\n",
       "    </tr>\n",
       "    <tr>\n",
       "      <th>3</th>\n",
       "      <td>4</td>\n",
       "      <td>996.99</td>\n",
       "      <td>-9.05</td>\n",
       "      <td>264.34</td>\n",
       "      <td>-10.02</td>\n",
       "      <td>92.6</td>\n",
       "      <td>3.07</td>\n",
       "      <td>2.85</td>\n",
       "      <td>0.23</td>\n",
       "      <td>1.78</td>\n",
       "      <td>2.85</td>\n",
       "      <td>1313.61</td>\n",
       "      <td>0.10</td>\n",
       "      <td>0.38</td>\n",
       "      <td>240.0</td>\n",
       "    </tr>\n",
       "    <tr>\n",
       "      <th>4</th>\n",
       "      <td>5</td>\n",
       "      <td>997.46</td>\n",
       "      <td>-9.63</td>\n",
       "      <td>263.72</td>\n",
       "      <td>-10.65</td>\n",
       "      <td>92.2</td>\n",
       "      <td>2.94</td>\n",
       "      <td>2.71</td>\n",
       "      <td>0.23</td>\n",
       "      <td>1.69</td>\n",
       "      <td>2.71</td>\n",
       "      <td>1317.19</td>\n",
       "      <td>0.40</td>\n",
       "      <td>0.88</td>\n",
       "      <td>157.0</td>\n",
       "    </tr>\n",
       "  </tbody>\n",
       "</table>\n",
       "</div>"
      ],
      "text/plain": [
       "   hour  p (mbar)  T (degC)  Tpot (K)  Tdew (degC)  rh (%)  VPmax (mbar)  \\\n",
       "0     1    996.50     -8.05    265.38        -8.78    94.4          3.33   \n",
       "1     2    996.62     -8.88    264.54        -9.77    93.2          3.12   \n",
       "2     3    996.84     -8.81    264.59        -9.66    93.5          3.13   \n",
       "3     4    996.99     -9.05    264.34       -10.02    92.6          3.07   \n",
       "4     5    997.46     -9.63    263.72       -10.65    92.2          2.94   \n",
       "\n",
       "   VPact (mbar)  VPdef (mbar)  sh (g/kg)  H2OC (mmol/mol)  rho (g/m**3)  \\\n",
       "0          3.14          0.19       1.96             3.15       1307.86   \n",
       "1          2.90          0.21       1.81             2.91       1312.25   \n",
       "2          2.93          0.20       1.83             2.94       1312.18   \n",
       "3          2.85          0.23       1.78             2.85       1313.61   \n",
       "4          2.71          0.23       1.69             2.71       1317.19   \n",
       "\n",
       "   wv (m/s)  max. wv (m/s)  wd (deg)  \n",
       "0      0.21           0.63     192.7  \n",
       "1      0.25           0.63     190.3  \n",
       "2      0.18           0.63     167.2  \n",
       "3      0.10           0.38     240.0  \n",
       "4      0.40           0.88     157.0  "
      ]
     },
     "execution_count": 10,
     "metadata": {},
     "output_type": "execute_result"
    }
   ],
   "source": [
    "# And take a look again\n",
    "df.head()"
   ]
  },
  {
   "cell_type": "markdown",
   "id": "a27a2c56",
   "metadata": {},
   "source": [
    "The hour variable has been successfully created and it has taken the place of the original column. Let's proceed to minmax scaling:"
   ]
  },
  {
   "cell_type": "code",
   "execution_count": 11,
   "id": "94aac5b6",
   "metadata": {},
   "outputs": [],
   "source": [
    "# Now we MinMax scale every column\n",
    "scaler = MinMaxScaler()\n",
    "df_scaled = pd.DataFrame(scaler.fit_transform(df), columns=df.columns)"
   ]
  },
  {
   "cell_type": "code",
   "execution_count": 12,
   "id": "d2fcacf0",
   "metadata": {},
   "outputs": [
    {
     "data": {
      "text/html": [
       "<div>\n",
       "<style scoped>\n",
       "    .dataframe tbody tr th:only-of-type {\n",
       "        vertical-align: middle;\n",
       "    }\n",
       "\n",
       "    .dataframe tbody tr th {\n",
       "        vertical-align: top;\n",
       "    }\n",
       "\n",
       "    .dataframe thead th {\n",
       "        text-align: right;\n",
       "    }\n",
       "</style>\n",
       "<table border=\"1\" class=\"dataframe\">\n",
       "  <thead>\n",
       "    <tr style=\"text-align: right;\">\n",
       "      <th></th>\n",
       "      <th>hour</th>\n",
       "      <th>p (mbar)</th>\n",
       "      <th>T (degC)</th>\n",
       "      <th>Tpot (K)</th>\n",
       "      <th>Tdew (degC)</th>\n",
       "      <th>rh (%)</th>\n",
       "      <th>VPmax (mbar)</th>\n",
       "      <th>VPact (mbar)</th>\n",
       "      <th>VPdef (mbar)</th>\n",
       "      <th>sh (g/kg)</th>\n",
       "      <th>H2OC (mmol/mol)</th>\n",
       "      <th>rho (g/m**3)</th>\n",
       "      <th>wv (m/s)</th>\n",
       "      <th>max. wv (m/s)</th>\n",
       "      <th>wd (deg)</th>\n",
       "    </tr>\n",
       "  </thead>\n",
       "  <tbody>\n",
       "    <tr>\n",
       "      <th>0</th>\n",
       "      <td>0.043478</td>\n",
       "      <td>0.826438</td>\n",
       "      <td>0.251840</td>\n",
       "      <td>0.246773</td>\n",
       "      <td>0.334726</td>\n",
       "      <td>0.934974</td>\n",
       "      <td>0.041136</td>\n",
       "      <td>0.084913</td>\n",
       "      <td>0.004548</td>\n",
       "      <td>0.082574</td>\n",
       "      <td>0.083781</td>\n",
       "      <td>0.743542</td>\n",
       "      <td>0.014989</td>\n",
       "      <td>0.026809</td>\n",
       "      <td>0.535278</td>\n",
       "    </tr>\n",
       "    <tr>\n",
       "      <th>1</th>\n",
       "      <td>0.086957</td>\n",
       "      <td>0.827634</td>\n",
       "      <td>0.237631</td>\n",
       "      <td>0.232507</td>\n",
       "      <td>0.314041</td>\n",
       "      <td>0.921040</td>\n",
       "      <td>0.037476</td>\n",
       "      <td>0.076166</td>\n",
       "      <td>0.005026</td>\n",
       "      <td>0.074032</td>\n",
       "      <td>0.075188</td>\n",
       "      <td>0.756682</td>\n",
       "      <td>0.017844</td>\n",
       "      <td>0.026809</td>\n",
       "      <td>0.528611</td>\n",
       "    </tr>\n",
       "    <tr>\n",
       "      <th>2</th>\n",
       "      <td>0.130435</td>\n",
       "      <td>0.829828</td>\n",
       "      <td>0.238829</td>\n",
       "      <td>0.233356</td>\n",
       "      <td>0.316339</td>\n",
       "      <td>0.924524</td>\n",
       "      <td>0.037650</td>\n",
       "      <td>0.077259</td>\n",
       "      <td>0.004787</td>\n",
       "      <td>0.075171</td>\n",
       "      <td>0.076262</td>\n",
       "      <td>0.756473</td>\n",
       "      <td>0.012848</td>\n",
       "      <td>0.026809</td>\n",
       "      <td>0.464444</td>\n",
       "    </tr>\n",
       "    <tr>\n",
       "      <th>3</th>\n",
       "      <td>0.173913</td>\n",
       "      <td>0.831323</td>\n",
       "      <td>0.234720</td>\n",
       "      <td>0.229110</td>\n",
       "      <td>0.308817</td>\n",
       "      <td>0.914073</td>\n",
       "      <td>0.036604</td>\n",
       "      <td>0.074344</td>\n",
       "      <td>0.005505</td>\n",
       "      <td>0.072323</td>\n",
       "      <td>0.073040</td>\n",
       "      <td>0.760753</td>\n",
       "      <td>0.007138</td>\n",
       "      <td>0.016170</td>\n",
       "      <td>0.666667</td>\n",
       "    </tr>\n",
       "    <tr>\n",
       "      <th>4</th>\n",
       "      <td>0.217391</td>\n",
       "      <td>0.836008</td>\n",
       "      <td>0.224790</td>\n",
       "      <td>0.218580</td>\n",
       "      <td>0.295654</td>\n",
       "      <td>0.909429</td>\n",
       "      <td>0.034339</td>\n",
       "      <td>0.069242</td>\n",
       "      <td>0.005505</td>\n",
       "      <td>0.067198</td>\n",
       "      <td>0.068027</td>\n",
       "      <td>0.771469</td>\n",
       "      <td>0.028551</td>\n",
       "      <td>0.037447</td>\n",
       "      <td>0.436111</td>\n",
       "    </tr>\n",
       "    <tr>\n",
       "      <th>5</th>\n",
       "      <td>0.260870</td>\n",
       "      <td>0.838501</td>\n",
       "      <td>0.224105</td>\n",
       "      <td>0.217561</td>\n",
       "      <td>0.296281</td>\n",
       "      <td>0.915235</td>\n",
       "      <td>0.034164</td>\n",
       "      <td>0.069242</td>\n",
       "      <td>0.005026</td>\n",
       "      <td>0.067198</td>\n",
       "      <td>0.068385</td>\n",
       "      <td>0.773025</td>\n",
       "      <td>0.003569</td>\n",
       "      <td>0.021277</td>\n",
       "      <td>0.405556</td>\n",
       "    </tr>\n",
       "    <tr>\n",
       "      <th>6</th>\n",
       "      <td>0.304348</td>\n",
       "      <td>0.844681</td>\n",
       "      <td>0.232666</td>\n",
       "      <td>0.225374</td>\n",
       "      <td>0.307146</td>\n",
       "      <td>0.917557</td>\n",
       "      <td>0.036082</td>\n",
       "      <td>0.073615</td>\n",
       "      <td>0.005266</td>\n",
       "      <td>0.071185</td>\n",
       "      <td>0.072324</td>\n",
       "      <td>0.767847</td>\n",
       "      <td>0.148465</td>\n",
       "      <td>0.122553</td>\n",
       "      <td>0.968889</td>\n",
       "    </tr>\n",
       "  </tbody>\n",
       "</table>\n",
       "</div>"
      ],
      "text/plain": [
       "       hour  p (mbar)  T (degC)  Tpot (K)  Tdew (degC)    rh (%)  \\\n",
       "0  0.043478  0.826438  0.251840  0.246773     0.334726  0.934974   \n",
       "1  0.086957  0.827634  0.237631  0.232507     0.314041  0.921040   \n",
       "2  0.130435  0.829828  0.238829  0.233356     0.316339  0.924524   \n",
       "3  0.173913  0.831323  0.234720  0.229110     0.308817  0.914073   \n",
       "4  0.217391  0.836008  0.224790  0.218580     0.295654  0.909429   \n",
       "5  0.260870  0.838501  0.224105  0.217561     0.296281  0.915235   \n",
       "6  0.304348  0.844681  0.232666  0.225374     0.307146  0.917557   \n",
       "\n",
       "   VPmax (mbar)  VPact (mbar)  VPdef (mbar)  sh (g/kg)  H2OC (mmol/mol)  \\\n",
       "0      0.041136      0.084913      0.004548   0.082574         0.083781   \n",
       "1      0.037476      0.076166      0.005026   0.074032         0.075188   \n",
       "2      0.037650      0.077259      0.004787   0.075171         0.076262   \n",
       "3      0.036604      0.074344      0.005505   0.072323         0.073040   \n",
       "4      0.034339      0.069242      0.005505   0.067198         0.068027   \n",
       "5      0.034164      0.069242      0.005026   0.067198         0.068385   \n",
       "6      0.036082      0.073615      0.005266   0.071185         0.072324   \n",
       "\n",
       "   rho (g/m**3)  wv (m/s)  max. wv (m/s)  wd (deg)  \n",
       "0      0.743542  0.014989       0.026809  0.535278  \n",
       "1      0.756682  0.017844       0.026809  0.528611  \n",
       "2      0.756473  0.012848       0.026809  0.464444  \n",
       "3      0.760753  0.007138       0.016170  0.666667  \n",
       "4      0.771469  0.028551       0.037447  0.436111  \n",
       "5      0.773025  0.003569       0.021277  0.405556  \n",
       "6      0.767847  0.148465       0.122553  0.968889  "
      ]
     },
     "execution_count": 12,
     "metadata": {},
     "output_type": "execute_result"
    }
   ],
   "source": [
    "# And take a look again\n",
    "df_scaled.head(7)"
   ]
  },
  {
   "cell_type": "markdown",
   "id": "08856323",
   "metadata": {},
   "source": [
    "Every variable is now on a scale from 0 to 1, which will make it much easier for our model to learn. We can now create a Dataset class:"
   ]
  },
  {
   "cell_type": "code",
   "execution_count": 13,
   "id": "a96965c3",
   "metadata": {},
   "outputs": [],
   "source": [
    "class WeatherDataset(Dataset):\n",
    "    def __init__(self, k=k):\n",
    "        self.df = df_scaled\n",
    "\n",
    "        self.input_cols = ['hour'] + list(self.df.columns[1:15])\n",
    "        self.target_cols = list(self.df.columns[[1,2,5,12]])\n",
    "\n",
    "        self.k = k\n",
    "\n",
    "    def __len__(self):\n",
    "        return len(self.df) - self.k - 1\n",
    "    \n",
    "    def __getitem__(self, idx):\n",
    "        input_values = np.array([self.df.iloc[i][self.input_cols] for i in range(idx, idx+self.k)], dtype=np.float32)\n",
    "        target_values = np.array(self.df.iloc[idx+self.k][self.target_cols], dtype=np.float32)\n",
    "\n",
    "        # We reshape the input values to flatten the dimension containing the sequence length (k)\n",
    "        input_values = input_values.reshape(-1)\n",
    "\n",
    "        # Verify the input and target shapes\n",
    "        assert input_values.shape == (self.k*len(self.input_cols),), f\"Input shape mismatch: {input_values.shape}\"\n",
    "        assert target_values.shape == (len(self.target_cols),), f\"Target shape mismatch: {target_values.shape}\"\n",
    "\n",
    "        # Convert input and targets to torch.tensors\n",
    "        input_tensor = torch.tensor(input_values, dtype=torch.float32)\n",
    "        target_tensor = torch.tensor(target_values, dtype=torch.float32)\n",
    "\n",
    "        return input_tensor, target_tensor\n"
   ]
  },
  {
   "cell_type": "code",
   "execution_count": 14,
   "id": "19b7c519",
   "metadata": {},
   "outputs": [],
   "source": [
    "# We are ready to define our training and test datasets\n",
    "train_dataset = WeatherDataset(k=k)\n",
    "#test_dataset = WeatherDataset(root_dir=r\"C:\\Users\\usuario\\RecogniChess\\HW4\", train_or_test='weather_test.csv', k=k)"
   ]
  },
  {
   "cell_type": "code",
   "execution_count": 15,
   "id": "1b5e13b7",
   "metadata": {
    "scrolled": true
   },
   "outputs": [
    {
     "name": "stdout",
     "output_type": "stream",
     "text": [
      "The training dataset contains: 56067 rows\n"
     ]
    }
   ],
   "source": [
    "# We will now print the length of each dataset to verify the __len__() function works\n",
    "print(\"The training dataset contains:\", len(train_dataset), \"rows\")\n",
    "#print(\"The test dataset contains\", len(test_dataset), \"rows\")"
   ]
  },
  {
   "cell_type": "markdown",
   "id": "b45d2a56",
   "metadata": {},
   "source": [
    "The length value we obtain is equal to the original length of the dataset $-$ $k$ $-$ $1$"
   ]
  },
  {
   "cell_type": "code",
   "execution_count": 16,
   "id": "5557a7d3",
   "metadata": {
    "scrolled": true
   },
   "outputs": [
    {
     "name": "stdout",
     "output_type": "stream",
     "text": [
      "Training dataset example (normalized): (tensor([0.0435, 0.8264, 0.2518, 0.2468, 0.3347, 0.9350, 0.0411, 0.0849, 0.0045,\n",
      "        0.0826, 0.0838, 0.7435, 0.0150, 0.0268, 0.5353, 0.0870, 0.8276, 0.2376,\n",
      "        0.2325, 0.3140, 0.9210, 0.0375, 0.0762, 0.0050, 0.0740, 0.0752, 0.7567,\n",
      "        0.0178, 0.0268, 0.5286, 0.1304, 0.8298, 0.2388, 0.2334, 0.3163, 0.9245,\n",
      "        0.0377, 0.0773, 0.0048, 0.0752, 0.0763, 0.7565, 0.0128, 0.0268, 0.4644,\n",
      "        0.1739, 0.8313, 0.2347, 0.2291, 0.3088, 0.9141, 0.0366, 0.0743, 0.0055,\n",
      "        0.0723, 0.0730, 0.7608, 0.0071, 0.0162, 0.6667]), tensor([0.8360, 0.2248, 0.9094, 0.0286]))\n"
     ]
    }
   ],
   "source": [
    "# We will now print the first example in the training dataset to verify the __getitem__() function works\n",
    "print(\"Training dataset example (normalized):\" , train_dataset[0])"
   ]
  },
  {
   "cell_type": "markdown",
   "id": "5fdaf6e7",
   "metadata": {},
   "source": [
    "Although they are normalized, we see that our model has concatenated the values of our 15 features at:\n",
    "\n",
    "- Timestep t-4 : 0.0435, 0.8264, 0.2518, 0.2468, 0.3347, 0.9350, 0.0411, 0.0849, 0.0045, 0.0826, 0.0838, 0.7435, 0.0150, 0.0268, 0.5353 \n",
    "- Timestep t-3 : 0.0870, 0.8276, 0.2376,  0.2325, 0.3140, 0.9210, 0.0375, 0.0762, 0.0050, 0.0740, 0.0752, 0.7567, 0.0178, 0.0268, 0.5286 \n",
    "- Timestep t-2 : 0.1304, 0.8298, 0.2388, 0.2334, 0.3163, 0.9245,  0.0377, 0.0773, 0.0048, 0.0752, 0.0763, 0.7565, 0.0128, 0.0268, 0.4644\n",
    "- Timestep t-1 : 0.1739, 0.8313, 0.2347, 0.2291, 0.3088, 0.9141, 0.0366, 0.0743, 0.0055,  0.0723, 0.0730, 0.7608, 0.0071, 0.0162, 0.6667\n",
    "\n",
    "In order to predict the 4 targets at: \n",
    "\n",
    "- Timestep t :     0.8360, 0.2248, 0.9094, 0.0286"
   ]
  },
  {
   "cell_type": "code",
   "execution_count": 17,
   "id": "7323d34c",
   "metadata": {},
   "outputs": [
    {
     "name": "stdout",
     "output_type": "stream",
     "text": [
      "Target values of training dataset example 1 (normalized): tensor([0.8360, 0.2248, 0.9094, 0.0286])\n"
     ]
    }
   ],
   "source": [
    "# Let's make sure we can subset this example to get its target value (label), which corresponds to the Temperature, DewPoint, RelativeHumidity and WindSpeed values at timepoint t\n",
    "print(\"Target values of training dataset example 1 (normalized):\" , train_dataset[0][1])"
   ]
  },
  {
   "cell_type": "code",
   "execution_count": 18,
   "id": "9be9fadf",
   "metadata": {},
   "outputs": [],
   "source": [
    "# We are finally ready to define the DataLoaders\n",
    "train_loader = DataLoader(train_dataset, batch_size=32, shuffle=True)\n",
    "# test_loader = DataLoader(test_dataset, batch_size=32, shuffle=False, num_workers=0)"
   ]
  },
  {
   "cell_type": "markdown",
   "id": "2292fc82",
   "metadata": {},
   "source": [
    "Before proceeding, one final litmus test is in order. Namely, we need to verify that our matrix sizes are compatible with each other. If our model has been defined correctly, we should have: \n",
    "\n",
    "- Model inputs: consisting of batch size `32` in dimension $1$ and the $k$-long concatenated feature values in dimension $2$ (`60`)\n",
    "- Model targets: consisting of batch size `32`in dimension $1$ and the `4`model targets (labels)\n",
    "- Model outputs: consisting of batch size `32`in dimension $1$ and the `4`predicted values\n",
    "\n",
    "Where the shape of outputs and targets must be the same in order to effectively compute a Loss at each model pass:"
   ]
  },
  {
   "cell_type": "code",
   "execution_count": 19,
   "id": "3f05c3bb",
   "metadata": {},
   "outputs": [
    {
     "name": "stdout",
     "output_type": "stream",
     "text": [
      "Inputs shape: torch.Size([32, 60])\n",
      "Targets shape: torch.Size([32, 4])\n",
      "Outputs shape: torch.Size([32, 4])\n"
     ]
    }
   ],
   "source": [
    "# Let's get a batch of inputs and targets to verify we have the right matrix shapes\n",
    "\n",
    "inputs, targets = next(iter(train_loader))\n",
    "inputs = inputs.to(device)\n",
    "targets = targets.to(device)\n",
    "\n",
    "# Pass the inputs through the model\n",
    "outputs = model(inputs)\n",
    "outputs = outputs.to(device)\n",
    "\n",
    "# Print the shapes of the tensors\n",
    "print(f\"Inputs shape: {inputs.shape}\")\n",
    "print(f\"Targets shape: {targets.shape}\")\n",
    "print(f\"Outputs shape: {outputs.shape}\")"
   ]
  },
  {
   "cell_type": "markdown",
   "id": "f75c5d6a",
   "metadata": {},
   "source": [
    "We get exactly what we expected. The first dimension is the batch size, `32`, which is common to all three tensors. Then, our model then takes `15` features at 4 different timpoints ($t-k$ ... $t-1$) and concatenates them ($11$ x $k$) to create an input shape of `60` features. These are used to predict `4` targets (y_preds) at timepoint `t` and compare them to the true labels (y_trues) at timepoint `t`. We have verified that the shape of our model targets and outputs is the same, and so we are ready to proceed to model training:"
   ]
  },
  {
   "cell_type": "markdown",
   "id": "c69452cf",
   "metadata": {},
   "source": [
    "## First model pass"
   ]
  },
  {
   "cell_type": "code",
   "execution_count": 87,
   "id": "4167e6c3",
   "metadata": {},
   "outputs": [],
   "source": [
    "# We begin by splitting the dataset into training and validation sets\n",
    "train_size = int(0.8 * len(train_dataset))\n",
    "val_size = len(train_dataset) - train_size\n",
    "\n",
    "train_dataset, val_dataset = torch.utils.data.random_split(train_dataset, [train_size, val_size])\n",
    "\n",
    "# Create data loaders for the training and validation sets\n",
    "train_loader = DataLoader(train_dataset, batch_size=64, shuffle=True) # We will set the batch size to 64 to speed things up\n",
    "val_loader = DataLoader(val_dataset, batch_size=64, shuffle=False) # We will set the batch size to 64 to speed things up"
   ]
  },
  {
   "cell_type": "code",
   "execution_count": 88,
   "id": "a3c05f88",
   "metadata": {},
   "outputs": [],
   "source": [
    "# We define the loss function and optimizer\n",
    "criterion = nn.MSELoss()\n",
    "optimizer = torch.optim.Adam(model.parameters(), lr=0.002) # We will also set the learning rate relatively high \n",
    "\n",
    "# We define the number of epochs to train for\n",
    "num_epochs = 10\n",
    "# We define the number of iterations to print loss at\n",
    "print_every = 500\n",
    "# We initialize the iteration counter\n",
    "iteration = 0\n",
    "\n",
    "# We initialize lists to store training and validation losses and R2s for each epoch\n",
    "train_losses = []\n",
    "val_losses = []\n",
    "train_r2s = []\n",
    "val_r2s = []"
   ]
  },
  {
   "cell_type": "code",
   "execution_count": 89,
   "id": "95f991b7",
   "metadata": {
    "scrolled": true
   },
   "outputs": [
    {
     "name": "stdout",
     "output_type": "stream",
     "text": [
      "Iteration 0 - Training Loss: 0.0001 Training R-squared: -0.0083\n",
      "Iteration 500 - Training Loss: 0.0054 Training R-squared: 0.3276\n",
      "Epoch 1 - Training Loss: 0.0064 Training R-squared: 0.5326 Validation Loss: 0.0026 Validation R-squared: 0.8017\n",
      "Iteration 1000 - Training Loss: 0.0014 Training R-squared: 0.3246\n",
      "Epoch 2 - Training Loss: 0.0031 Training R-squared: 0.7744 Validation Loss: 0.0021 Validation R-squared: 0.8480\n",
      "Iteration 1500 - Training Loss: 0.0004 Training R-squared: 0.1133\n",
      "Iteration 2000 - Training Loss: 0.0024 Training R-squared: 0.6865\n",
      "Epoch 3 - Training Loss: 0.0027 Training R-squared: 0.8044 Validation Loss: 0.0019 Validation R-squared: 0.8693\n",
      "Iteration 2500 - Training Loss: 0.0015 Training R-squared: 0.4628\n",
      "Epoch 4 - Training Loss: 0.0026 Training R-squared: 0.8167 Validation Loss: 0.0018 Validation R-squared: 0.8720\n",
      "Iteration 3000 - Training Loss: 0.0007 Training R-squared: 0.2310\n",
      "Iteration 3500 - Training Loss: 0.0025 Training R-squared: 0.8190\n",
      "Epoch 5 - Training Loss: 0.0025 Training R-squared: 0.8238 Validation Loss: 0.0018 Validation R-squared: 0.8755\n",
      "Iteration 4000 - Training Loss: 0.0017 Training R-squared: 0.5852\n",
      "Epoch 6 - Training Loss: 0.0024 Training R-squared: 0.8285 Validation Loss: 0.0018 Validation R-squared: 0.8774\n",
      "Iteration 4500 - Training Loss: 0.0010 Training R-squared: 0.3485\n",
      "Epoch 7 - Training Loss: 0.0024 Training R-squared: 0.8311 Validation Loss: 0.0017 Validation R-squared: 0.8770\n",
      "Iteration 5000 - Training Loss: 0.0003 Training R-squared: 0.1120\n",
      "Iteration 5500 - Training Loss: 0.0020 Training R-squared: 0.7082\n",
      "Epoch 8 - Training Loss: 0.0024 Training R-squared: 0.8353 Validation Loss: 0.0017 Validation R-squared: 0.8781\n",
      "Iteration 6000 - Training Loss: 0.0013 Training R-squared: 0.4698\n",
      "Epoch 9 - Training Loss: 0.0023 Training R-squared: 0.8398 Validation Loss: 0.0017 Validation R-squared: 0.8808\n",
      "Iteration 6500 - Training Loss: 0.0006 Training R-squared: 0.2313\n",
      "Iteration 7000 - Training Loss: 0.0023 Training R-squared: 0.8316\n",
      "Epoch 10 - Training Loss: 0.0023 Training R-squared: 0.8424 Validation Loss: 0.0017 Validation R-squared: 0.8827\n"
     ]
    }
   ],
   "source": [
    "##############\n",
    "# TRAINING LOOP #\n",
    "#############\n",
    "\n",
    "model.train()\n",
    "for epoch in range(num_epochs):\n",
    "    epoch_train_loss = 0.0\n",
    "    epoch_train_r2 = 0.0\n",
    "    epoch_val_loss = 0.0\n",
    "    epoch_val_r2 = 0.0\n",
    "    model.train()\n",
    "    for inputs, targets in train_loader:\n",
    "        # Move the inputs and targets to the device (GPU or CPU)\n",
    "        inputs = inputs.to(device)\n",
    "        targets = targets.to(device)\n",
    "        \n",
    "        # Zero the gradients\n",
    "        optimizer.zero_grad()\n",
    "        \n",
    "        # Forward pass\n",
    "        outputs = model(inputs)\n",
    "        train_loss = criterion(outputs, targets)\n",
    "        train_r2 = torchmetrics.functional.r2_score(outputs, targets)\n",
    "        \n",
    "        # Backward pass and optimization\n",
    "        train_loss.backward()\n",
    "        optimizer.step()\n",
    "        \n",
    "        epoch_train_loss += train_loss.item()\n",
    "        epoch_train_r2 += train_r2.item()  \n",
    "        \n",
    "        # Calculate the average training loss and R2 for the epoch\n",
    "        train_loss = epoch_train_loss / len(train_loader)\n",
    "        train_r2 = epoch_train_r2 / len(train_loader)  \n",
    "                                      \n",
    "        # Print the training loss at every print_every iterations\n",
    "        if iteration % print_every == 0:\n",
    "            print(f\"Iteration {iteration} - Training Loss: {train_loss:.4f} Training R-squared: {train_r2:.4f}\")\n",
    "            \n",
    "        iteration += 1\n",
    "       \n",
    "    # Compute the average training loss and R2 for the epoch\n",
    "    avg_epoch_train_loss = epoch_train_loss / len(train_loader)\n",
    "    avg_epoch_train_r2 = epoch_train_r2 / len(train_loader)\n",
    "    \n",
    "    # Append the training loss and R2 to the lists\n",
    "    train_losses.append(avg_epoch_train_loss)\n",
    "    train_r2s.append(avg_epoch_train_r2)\n",
    "    \n",
    "    ###############\n",
    "    # VALIDATION LOOP #\n",
    "    ##############\n",
    "    \n",
    "    # Set the model to evaluation mode\n",
    "    model.eval()\n",
    "    with torch.no_grad():\n",
    "        for inputs, targets in val_loader:\n",
    "            # Move the inputs and targets to the device (GPU or CPU)\n",
    "            inputs = inputs.to(device)\n",
    "            targets = targets.to(device)\n",
    "            \n",
    "            # Forward pass\n",
    "            outputs = model(inputs)\n",
    "            val_loss = criterion(outputs, targets)\n",
    "            val_r2 = torchmetrics.functional.r2_score(outputs, targets)\n",
    "            \n",
    "            epoch_val_loss += val_loss.item()\n",
    "            epoch_val_r2 += val_r2.item()  \n",
    "        \n",
    "        # Compute the average validation loss and R2 for the epoch\n",
    "        avg_epoch_val_loss = epoch_val_loss / len(val_loader)\n",
    "        avg_epoch_val_r2 = epoch_val_r2 / len(val_loader)  \n",
    "        \n",
    "        # Append the validation loss and R2 to the lists\n",
    "        val_losses.append(avg_epoch_val_loss)\n",
    "        val_r2s.append(avg_epoch_val_r2)\n",
    "    \n",
    "    # Print the average loss and R2 for the epoch\n",
    "    print(f\"Epoch {epoch+1} - Training Loss: {avg_epoch_train_loss:.4f} Training R-squared: {avg_epoch_train_r2:.4f} Validation Loss: {avg_epoch_val_loss:.4f} Validation R-squared: {avg_epoch_val_r2:.4f}\")\n"
   ]
  },
  {
   "cell_type": "markdown",
   "id": "9dd4e72f",
   "metadata": {},
   "source": [
    "We stored the performance metrics at every epoch, so we can now plot the learning curves for both training and validation sets:"
   ]
  },
  {
   "cell_type": "code",
   "execution_count": 90,
   "id": "d21649dc",
   "metadata": {
    "scrolled": false
   },
   "outputs": [
    {
     "data": {
      "image/png": "[encoded data removed]",
      "text/plain": [
       "<Figure size 640x480 with 1 Axes>"
      ]
     },
     "metadata": {},
     "output_type": "display_data"
    },
    {
     "data": {
      "image/png": "[encoded data removed]",
      "text/plain": [
       "<Figure size 640x480 with 1 Axes>"
      ]
     },
     "metadata": {},
     "output_type": "display_data"
    }
   ],
   "source": [
    "# Plot the training and validation loss\n",
    "plt.plot(train_losses, label='Training Loss')\n",
    "plt.plot(val_losses, label='Validation Loss')\n",
    "plt.legend()\n",
    "plt.title('Loss value at every epoch')\n",
    "plt.xlabel('Epoch (1-10)')\n",
    "plt.ylabel('Average MSE')\n",
    "plt.show()\n",
    "\n",
    "# Plot the training and validation R2 scores\n",
    "plt.plot(train_r2s, label='Training R2')\n",
    "plt.plot(val_r2s, label='Validation R2')\n",
    "plt.legend()\n",
    "plt.title('R2 Score at every epoch')\n",
    "plt.xlabel('Epoch (1-10)')\n",
    "plt.ylabel('Average Coefficient of determination (R2) value')\n",
    "plt.show()"
   ]
  },
  {
   "cell_type": "markdown",
   "id": "aee723d1",
   "metadata": {},
   "source": [
    "The model seems to be learning at every epoch and performance is quite high already, approaching R2 values in the low 90s! More importantly, it is clear that the model is **not overfitting**, as validation performance is actually a bit better than training performance. However, we still have a long way to go. Namely, we need to set $k$ as a hyperparameter and test three different lengths: `{4, 6, 8}`. That is in addition to checking two different `learning rate` values `{0.001, 0.002}` and two different `dropout` values `{0.2, 0.5}`, and of course training for longer. "
   ]
  }
 ],
 "metadata": {
  "kernelspec": {
   "display_name": "Python 3 (ipykernel)",
   "language": "python",
   "name": "python3"
  },
  "language_info": {
   "codemirror_mode": {
    "name": "ipython",
    "version": 3
   },
   "file_extension": ".py",
   "mimetype": "text/x-python",
   "name": "python",
   "nbconvert_exporter": "python",
   "pygments_lexer": "ipython3",
   "version": "3.10.6"
  }
 },
 "nbformat": 4,
 "nbformat_minor": 5
}
