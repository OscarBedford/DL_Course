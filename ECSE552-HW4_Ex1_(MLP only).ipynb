{
 "cells": [
  {
   "cell_type": "markdown",
   "id": "db1094d0",
   "metadata": {},
   "source": [
    "# MODEL 1: Linear solution (MLP with Dropout)"
   ]
  },
  {
   "cell_type": "markdown",
   "id": "cee8ec23",
   "metadata": {},
   "source": [
    "In this exercise, we are asked to build a `Seq2Vec` model using only nn.Linear() layers. Using the values of a set of features at timepoints $t-k$ through $t-1$, we are asked to predict the following targets at timepoint $t$: \n",
    "\n",
    "- `p(mbar)`, atmospheric pressure\n",
    "- `T (degC)`, air temperature\n",
    "- `rh (%)`, relative humidity\n",
    "- `wv(m/s)`, wind velocity\n",
    "\n",
    "Because an `MLP` can only take a fixed number of values, we will first initialize the model at $k = 4$. Then, once we get that model working, we will set $k$ as a hyperparameter and iterate through `{4, 6, 8}`, along with two learning rate values`{0.001, 0.002}`and two dropout values`{0.2, 0.5}`."
   ]
  },
  {
   "cell_type": "markdown",
   "id": "a03fbc51",
   "metadata": {},
   "source": [
    "## We define the first model using k = 4 and no tuning yet:"
   ]
  },
  {
   "cell_type": "code",
   "execution_count": 1,
   "id": "fd8f22b7",
   "metadata": {},
   "outputs": [
    {
     "name": "stdout",
     "output_type": "stream",
     "text": [
      "C:\\Users\\usuario\\RecogniChess\n"
     ]
    }
   ],
   "source": [
    "# Let's check our current working directory \n",
    "import os\n",
    "print(os.getcwd())"
   ]
  },
  {
   "cell_type": "code",
   "execution_count": 2,
   "id": "413dc9d7",
   "metadata": {},
   "outputs": [],
   "source": [
    "# Let's import the necessary dependencies\n",
    "%matplotlib inline\n",
    "import torch\n",
    "import torch.nn as nn\n",
    "import torch.nn.functional as F\n",
    "import torchmetrics\n",
    "import numpy as np\n",
    "import matplotlib.pyplot as plt\n",
    "import sklearn as sk\n",
    "from sklearn.model_selection import train_test_split\n",
    "from torch.utils.data import Dataset\n",
    "from torch.utils.data import DataLoader\n",
    "from torchvision import transforms\n",
    "import torch.optim as optim\n",
    "import pandas as pd"
   ]
  },
  {
   "cell_type": "code",
   "execution_count": 3,
   "id": "978040b5",
   "metadata": {},
   "outputs": [
    {
     "name": "stdout",
     "output_type": "stream",
     "text": [
      "Using GPU: NVIDIA GeForce GTX 960M\n"
     ]
    }
   ],
   "source": [
    "# We determine whether CUDA is available \n",
    "if torch.cuda.is_available():\n",
    "    device = torch.device(\"cuda\")\n",
    "    print(f\"Using GPU: {torch.cuda.get_device_name(device)}\")\n",
    "else:\n",
    "    device = torch.device(\"cpu\")\n",
    "    print(\"Using CPU\")"
   ]
  },
  {
   "cell_type": "code",
   "execution_count": 4,
   "id": "477956ef",
   "metadata": {},
   "outputs": [
    {
     "name": "stdout",
     "output_type": "stream",
     "text": [
      "CUDA cache used: 0.0 MB\n",
      "CUDA RAM used: 0.0 MB\n"
     ]
    }
   ],
   "source": [
    "# We empty the CUDA cache for good measure and verify cache and RAM are at zero\n",
    "torch.cuda.empty_cache()\n",
    "print(f\"CUDA cache used: {torch.cuda.memory_reserved() / 1e6:.1f} MB\") \n",
    "print(f\"CUDA RAM used: {torch.cuda.memory_allocated() / 1e6:.1f} MB\")"
   ]
  },
  {
   "cell_type": "markdown",
   "id": "3867c3c8",
   "metadata": {},
   "source": [
    "We are ready to initialize our model class. We will use a very simple architecture with only one hidden layer containing `100` units. The hidden layer output will go through a ReLU activation function to yield the predicted values for each of our four target variables. Dropout will be set at `0.2` for now. Note that we will define $k = 4$ right away, in the very first line, in order to establish the input features as $11$ * $k$ right off the bat. This way we can simply write $k = k$ as needed in the subsequent cells."
   ]
  },
  {
   "cell_type": "code",
   "execution_count": 5,
   "id": "b503d1c3",
   "metadata": {},
   "outputs": [],
   "source": [
    "# We define our model class\n",
    "\n",
    "k = 4 # We will set k to be the number of timesteps that we will consider prior to time t \n",
    "\n",
    "class MLP(nn.Module):\n",
    "    def __init__(self, in_features, hidden_features1, out_features, dropout_rate):\n",
    "        super().__init__()\n",
    "        self.fc1 = nn.Linear(in_features, hidden_features1)\n",
    "        self.fc2 = nn.Linear(hidden_features1, out_features)\n",
    "        self.dropout = nn.Dropout(dropout_rate)\n",
    "        \n",
    "    def forward(self, x):\n",
    "        x = F.relu(self.fc1(x))\n",
    "        x = self.dropout(x)\n",
    "        x = self.fc2(x)\n",
    "        return x\n",
    "    \n",
    "torch.manual_seed(42)\n",
    "model = MLP(in_features=11*k, hidden_features1=100, out_features=4, dropout_rate=0.2).to(device)"
   ]
  },
  {
   "cell_type": "code",
   "execution_count": 6,
   "id": "0e881dc0",
   "metadata": {},
   "outputs": [
    {
     "data": {
      "text/plain": [
       "MLP(\n",
       "  (fc1): Linear(in_features=44, out_features=100, bias=True)\n",
       "  (fc2): Linear(in_features=100, out_features=4, bias=True)\n",
       "  (dropout): Dropout(p=0.2, inplace=False)\n",
       ")"
      ]
     },
     "execution_count": 6,
     "metadata": {},
     "output_type": "execute_result"
    }
   ],
   "source": [
    "# We set the model to CUDA and verify its structure\n",
    "model.to(device)\n",
    "model"
   ]
  },
  {
   "cell_type": "markdown",
   "id": "654002f4",
   "metadata": {},
   "source": [
    "We see that the input features to the model will be `44`. This means that we will concatenate the values of our `11` features four times (as $k = 4$), in sequential order, into a single array that will be passed to the model. This is not the best way to take into account previous timepoints, but it is one of the few viable options that an `MLP` allows for timeseries data. As a limitation to this approach, we note that this can only work for small values of $k$, as every new timestep increases the feature set by `11`, in our case.\n",
    "\n",
    "We will now proceed to define our Dataset subclass, which will be used to perform the following operations: \n",
    "\n",
    "- Retrieve the CSV files containing the **training** and **test** data from their respective directories\n",
    "- Compute a new feature based on the timestamp column for the `hour` at which the measurements were taken\n",
    "- Divide the data columns given by the CSVs into **inputs** and **targets**\n",
    "- Calculate the `mean` and `std` for input and targets, and use them to normalize the data\n",
    "- Convert the resulting objects into `torch.tensors` that can be readily passed into DataLoaders"
   ]
  },
  {
   "cell_type": "code",
   "execution_count": 7,
   "id": "a96965c3",
   "metadata": {},
   "outputs": [],
   "source": [
    "class WeatherDataset(Dataset):\n",
    "    \n",
    "    def __init__(self, root_dir, train_or_test, sep=',', k=k):\n",
    "        self.root_dir = root_dir      \n",
    "        self.df = pd.read_csv(os.path.join(root_dir, train_or_test), header=0, parse_dates=[0])\n",
    "        \n",
    "        self.df['hour'] = self.df.iloc[:,0].dt.hour.astype(np.float32) # We will add the hour as a feature, as this could help our model\n",
    "\n",
    "        self.input_cols = ['hour'] + list(self.df.columns[3:5]) + list(self.df.columns[6:12]) + list(self.df.columns[13:15])\n",
    "        self.target_cols = list(self.df.columns[[1, 2, 5, 12]])\n",
    "        \n",
    "        self.k = k\n",
    "\n",
    "        # It is imperative that we calculate the mean and standard deviation of the input and target values in order to normalize\n",
    "        self.input_mean = self.df[self.input_cols].mean().values.astype(np.float32)\n",
    "        self.input_std = self.df[self.input_cols].std().values.astype(np.float32)\n",
    "        self.target_mean = self.df[self.target_cols].mean().values.astype(np.float32)\n",
    "        self.target_std = self.df[self.target_cols].std().values.astype(np.float32)\n",
    "\n",
    "    def __len__(self):\n",
    "        return len(self.df) - self.k\n",
    "    \n",
    "    def __getitem__(self, idx):\n",
    "        input_values = np.array([self.df.iloc[i][self.input_cols] for i in range(idx, idx+self.k)], dtype=np.float32)\n",
    "        target_values = np.array(self.df.iloc[idx+self.k][self.target_cols], dtype=np.float32)\n",
    "\n",
    "        # We normalize the input values\n",
    "        input_values = (input_values - self.input_mean) / self.input_std\n",
    "\n",
    "        # We normalize the target values\n",
    "        target_values = (target_values - self.target_mean) / self.target_std\n",
    "\n",
    "        # We reshape the input values to flatten the dimension containing the sequence length (k)\n",
    "        input_values = input_values.reshape(-1)\n",
    "\n",
    "        # Verify the input and target shapes\n",
    "        assert input_values.shape == (self.k*len(self.input_cols),), f\"Input shape mismatch: {input_values.shape}\"\n",
    "        assert target_values.shape == (len(self.target_cols),), f\"Target shape mismatch: {target_values.shape}\"\n",
    "\n",
    "        # Convert input and targets to torch.tensors\n",
    "        input_tensor = torch.tensor(input_values, dtype=torch.float32)\n",
    "        target_tensor = torch.tensor(target_values, dtype=torch.float32)\n",
    "\n",
    "        return input_tensor, target_tensor\n"
   ]
  },
  {
   "cell_type": "code",
   "execution_count": 8,
   "id": "19b7c519",
   "metadata": {},
   "outputs": [],
   "source": [
    "# We are ready to define our training and test datasets\n",
    "train_dataset = WeatherDataset(root_dir=r\"C:\\Users\\usuario\\RecogniChess\\HW4\", train_or_test='weather_train.csv', k=k)\n",
    "test_dataset = WeatherDataset(root_dir=r\"C:\\Users\\usuario\\RecogniChess\\HW4\", train_or_test='weather_test.csv', k=k)"
   ]
  },
  {
   "cell_type": "code",
   "execution_count": 9,
   "id": "1b5e13b7",
   "metadata": {
    "scrolled": true
   },
   "outputs": [
    {
     "name": "stdout",
     "output_type": "stream",
     "text": [
      "The training dataset contains: 56068 rows\n",
      "The test dataset contains 14015 rows\n"
     ]
    }
   ],
   "source": [
    "# We will now print the length of each dataset to verify the __len__() function works\n",
    "print(\"The training dataset contains:\", len(train_dataset), \"rows\")\n",
    "print(\"The test dataset contains\", len(test_dataset), \"rows\")"
   ]
  },
  {
   "cell_type": "markdown",
   "id": "b45d2a56",
   "metadata": {},
   "source": [
    "For each dataset, the length value we obtain is equal to the original length of the dataset $-$ $k$"
   ]
  },
  {
   "cell_type": "code",
   "execution_count": 10,
   "id": "5557a7d3",
   "metadata": {
    "scrolled": true
   },
   "outputs": [
    {
     "name": "stdout",
     "output_type": "stream",
     "text": [
      "Training dataset example (normalized): (tensor([-1.5171, -2.0756, -1.9517, -1.3158, -1.4835, -0.7882, -1.4858, -1.4886,\n",
      "         2.2466, -1.2527,  0.2145, -1.3726, -2.1742, -2.0966, -1.3439, -1.5413,\n",
      "        -0.7839, -1.5428, -1.5457,  2.3560, -1.2527,  0.1869, -1.2281, -2.1683,\n",
      "        -2.0805, -1.3425, -1.5341, -0.7861, -1.5352, -1.5385,  2.3543, -1.2527,\n",
      "        -0.0784, -1.0836, -2.1977, -2.1332, -1.3505, -1.5534, -0.7797, -1.5542,\n",
      "        -1.5600,  2.3899, -1.3597,  0.7577]), tensor([ 1.0332, -2.2056,  0.9693, -1.1348]))\n"
     ]
    }
   ],
   "source": [
    "# We will now print the first example in the training dataset to verify the __getitem__() function works\n",
    "print(\"Training dataset example (normalized):\" , train_dataset[0])"
   ]
  },
  {
   "cell_type": "markdown",
   "id": "5fdaf6e7",
   "metadata": {},
   "source": [
    "Although they are normalized, we see that our model has concatenated the values of our 11 features at:\n",
    "\n",
    "- Timestep t-4 : -1.5171, -2.0756, -1.9517, -1.3158, -1.4835, -0.7882, -1.4858, -1.4886,  2.2466, -1.2527,  0.2145\n",
    "- Timestep t-3 : -1.3726, -2.1742, -2.0966, -1.3439, -1.5413, -0.7839, -1.5428, -1.5457,  2.3560, -1.2527,  0.1869\n",
    "- Timestep t-2 : -1.2281, -2.1683, -2.0805, -1.3425, -1.5341, -0.7861, -1.5352, -1.5385,  2.3543, -1.2527, -0.0784,\n",
    "- Timestep t-1 : -1.0836, -2.1977, -2.1332, -1.3505, -1.5534, -0.7797, -1.5542, -1.5600,  2.3899, -1.3597,  0.7577\n",
    "\n",
    "In order to predict the 4 targets at: \n",
    "\n",
    "- Timestep t :     1.0332, -2.2056,  0.9693, -1.1348"
   ]
  },
  {
   "cell_type": "code",
   "execution_count": 11,
   "id": "7323d34c",
   "metadata": {},
   "outputs": [
    {
     "name": "stdout",
     "output_type": "stream",
     "text": [
      "Target values of training dataset example 1 (normalized): tensor([ 1.0332, -2.2056,  0.9693, -1.1348])\n"
     ]
    }
   ],
   "source": [
    "# Let's make sure we can subset this example to get its target value (label), which corresponds to the Temperature, DewPoint, RelativeHumidity and WindSpeed values at timepoint t\n",
    "print(\"Target values of training dataset example 1 (normalized):\" , train_dataset[0][1])"
   ]
  },
  {
   "cell_type": "code",
   "execution_count": 12,
   "id": "9be9fadf",
   "metadata": {},
   "outputs": [],
   "source": [
    "# We are finally ready to define the DataLoaders\n",
    "train_loader = DataLoader(train_dataset, batch_size=32, shuffle=True)\n",
    "test_loader = DataLoader(test_dataset, batch_size=32, shuffle=False, num_workers=0)"
   ]
  },
  {
   "cell_type": "markdown",
   "id": "2292fc82",
   "metadata": {},
   "source": [
    "Before proceeding, one final litmus test is in order. Namely, we need to verify that our matrix sizes are compatible with each other. If our model has been defined correctly, we should have: \n",
    "\n",
    "- Model inputs: consisting of batch size `32` in dimension $1$ and the $k$-long concatenated feature values in dimension $2$ (`44`)\n",
    "- Model targets: consisting of batch size `32`in dimension $1$ and the `4`model targets (labels)\n",
    "- Model outputs: consisting of batch size `32`in dimension $1$ and the `4`predicted values\n",
    "\n",
    "Where the shape of outputs and targets must be the same in order to effectively compute a Loss at each model pass:"
   ]
  },
  {
   "cell_type": "code",
   "execution_count": 14,
   "id": "3f05c3bb",
   "metadata": {},
   "outputs": [
    {
     "name": "stdout",
     "output_type": "stream",
     "text": [
      "Inputs shape: torch.Size([32, 44])\n",
      "Targets shape: torch.Size([32, 4])\n",
      "Outputs shape: torch.Size([32, 4])\n"
     ]
    }
   ],
   "source": [
    "# Let's get a batch of inputs and targets to verify we have the right matrix shapes\n",
    "\n",
    "inputs, targets = next(iter(train_loader))\n",
    "inputs = inputs.to(device)\n",
    "targets = targets.to(device)\n",
    "\n",
    "# Pass the inputs through the model\n",
    "outputs = model(inputs)\n",
    "outputs = outputs.to(device)\n",
    "\n",
    "# Print the shapes of the tensors\n",
    "print(f\"Inputs shape: {inputs.shape}\")\n",
    "print(f\"Targets shape: {targets.shape}\")\n",
    "print(f\"Outputs shape: {outputs.shape}\")"
   ]
  },
  {
   "cell_type": "markdown",
   "id": "f75c5d6a",
   "metadata": {},
   "source": [
    "We get exactly what we expected. The first dimension is the batch size, `32`, which is common to all three tensors. Then, our model then takes `11` outputs at 4 different timpoints ($t-k$ ... $t-1$) and concatenates them ($11$ x $k$) to create an input shape of `44` features. These are used to predict `4` targets (y_preds) at timepoint `t` and compare them to the true labels (y_trues) at timepoint `t`. We have verified that the shape of our model targets and outputs is the same, and so we are ready to proceed to model training:"
   ]
  },
  {
   "cell_type": "markdown",
   "id": "c69452cf",
   "metadata": {},
   "source": [
    "## First model pass (k = 4; no tuning yet)"
   ]
  },
  {
   "cell_type": "code",
   "execution_count": 21,
   "id": "4167e6c3",
   "metadata": {},
   "outputs": [],
   "source": [
    "# We begin by splitting the dataset into training and validation sets\n",
    "train_size = int(0.8 * len(train_dataset))\n",
    "val_size = len(train_dataset) - train_size\n",
    "\n",
    "train_dataset, val_dataset = torch.utils.data.random_split(train_dataset, [train_size, val_size])\n",
    "\n",
    "# Create data loaders for the training and validation sets\n",
    "train_loader = DataLoader(train_dataset, batch_size=64, shuffle=True) # We will set the batch size to 64 to speed things up\n",
    "val_loader = DataLoader(val_dataset, batch_size=64, shuffle=False) # We will set the batch size to 64 to speed things up"
   ]
  },
  {
   "cell_type": "code",
   "execution_count": null,
   "id": "a3c05f88",
   "metadata": {},
   "outputs": [],
   "source": [
    "# We define the loss function and optimizer\n",
    "criterion = nn.MSELoss()\n",
    "optimizer = torch.optim.Adam(model.parameters(), lr=0.002) # We will also set the learning rate relatively high \n",
    "\n",
    "# We define the number of epochs to train for\n",
    "num_epochs = 10\n",
    "# We define the number of iterations to print loss at\n",
    "print_every = 500\n",
    "# We initialize the iteration counter\n",
    "iteration = 0\n",
    "\n",
    "# We initialize lists to store training and validation losses and R2s for each epoch\n",
    "train_losses = []\n",
    "val_losses = []\n",
    "train_r2s = []\n",
    "val_r2s = []"
   ]
  },
  {
   "cell_type": "code",
   "execution_count": 22,
   "id": "95f991b7",
   "metadata": {},
   "outputs": [
    {
     "name": "stdout",
     "output_type": "stream",
     "text": [
      "Iteration 0 - Training Loss: 0.0003 Training R-squared: 0.0016\n",
      "Iteration 500 - Training Loss: 0.1227 Training R-squared: 0.7645\n",
      "Epoch 1 - Training Loss: 0.1364 Training R-squared: 0.8562 Validation Loss: 0.1111 Validation R-squared: 0.8820\n",
      "Iteration 1000 - Training Loss: 0.1036 Training R-squared: 0.6755\n",
      "Epoch 2 - Training Loss: 0.1314 Training R-squared: 0.8620 Validation Loss: 0.1101 Validation R-squared: 0.8822\n",
      "Iteration 1500 - Training Loss: 0.0883 Training R-squared: 0.5824\n",
      "Epoch 3 - Training Loss: 0.1296 Training R-squared: 0.8636 Validation Loss: 0.1074 Validation R-squared: 0.8852\n",
      "Iteration 2000 - Training Loss: 0.0728 Training R-squared: 0.4912\n",
      "Epoch 4 - Training Loss: 0.1279 Training R-squared: 0.8656 Validation Loss: 0.1072 Validation R-squared: 0.8858\n",
      "Iteration 2500 - Training Loss: 0.0576 Training R-squared: 0.3976\n",
      "Epoch 5 - Training Loss: 0.1272 Training R-squared: 0.8673 Validation Loss: 0.1067 Validation R-squared: 0.8863\n",
      "Iteration 3000 - Training Loss: 0.0429 Training R-squared: 0.3035\n",
      "Epoch 6 - Training Loss: 0.1262 Training R-squared: 0.8672 Validation Loss: 0.1069 Validation R-squared: 0.8866\n",
      "Iteration 3500 - Training Loss: 0.0299 Training R-squared: 0.2090\n",
      "Epoch 7 - Training Loss: 0.1254 Training R-squared: 0.8682 Validation Loss: 0.1062 Validation R-squared: 0.8868\n",
      "Iteration 4000 - Training Loss: 0.0167 Training R-squared: 0.1145\n",
      "Epoch 8 - Training Loss: 0.1259 Training R-squared: 0.8681 Validation Loss: 0.1077 Validation R-squared: 0.8845\n",
      "Iteration 4500 - Training Loss: 0.0029 Training R-squared: 0.0202\n",
      "Iteration 5000 - Training Loss: 0.1142 Training R-squared: 0.7951\n",
      "Epoch 9 - Training Loss: 0.1252 Training R-squared: 0.8692 Validation Loss: 0.1039 Validation R-squared: 0.8891\n",
      "Iteration 5500 - Training Loss: 0.1015 Training R-squared: 0.7001\n",
      "Epoch 10 - Training Loss: 0.1247 Training R-squared: 0.8690 Validation Loss: 0.1040 Validation R-squared: 0.8890\n"
     ]
    }
   ],
   "source": [
    "##############\n",
    "# TRAINING LOOP #\n",
    "#############\n",
    "\n",
    "model.train()\n",
    "for epoch in range(num_epochs):\n",
    "    epoch_train_loss = 0.0\n",
    "    epoch_train_r2 = 0.0\n",
    "    epoch_val_loss = 0.0\n",
    "    epoch_val_r2 = 0.0\n",
    "    model.train()\n",
    "    for inputs, targets in train_loader:\n",
    "        # Move the inputs and targets to the device (GPU or CPU)\n",
    "        inputs = inputs.to(device)\n",
    "        targets = targets.to(device)\n",
    "        \n",
    "        # Zero the gradients\n",
    "        optimizer.zero_grad()\n",
    "        \n",
    "        # Forward pass\n",
    "        outputs = model(inputs)\n",
    "        train_loss = criterion(outputs, targets)\n",
    "        train_r2 = torchmetrics.functional.r2_score(outputs, targets)\n",
    "        \n",
    "        # Backward pass and optimization\n",
    "        train_loss.backward()\n",
    "        optimizer.step()\n",
    "        \n",
    "        epoch_train_loss += train_loss.item()\n",
    "        epoch_train_r2 += train_r2.item()  \n",
    "        \n",
    "        # Calculate the average training loss and R2 for the epoch\n",
    "        train_loss = epoch_train_loss / len(train_loader)\n",
    "        train_r2 = epoch_train_r2 / len(train_loader)  \n",
    "                                      \n",
    "        # Print the training loss at every print_every iterations\n",
    "        if iteration % print_every == 0:\n",
    "            print(f\"Iteration {iteration} - Training Loss: {train_loss:.4f} Training R-squared: {train_r2:.4f}\")\n",
    "            \n",
    "        iteration += 1\n",
    "       \n",
    "    # Compute the average training loss and R2 for the epoch\n",
    "    avg_epoch_train_loss = epoch_train_loss / len(train_loader)\n",
    "    avg_epoch_train_r2 = epoch_train_r2 / len(train_loader)\n",
    "    \n",
    "    # Append the training loss and R2 to the lists\n",
    "    train_losses.append(avg_epoch_train_loss)\n",
    "    train_r2s.append(avg_epoch_train_r2)\n",
    "    \n",
    "    ###############\n",
    "    # VALIDATION LOOP #\n",
    "    ##############\n",
    "    \n",
    "    # Set the model to evaluation mode\n",
    "    model.eval()\n",
    "    with torch.no_grad():\n",
    "        for inputs, targets in val_loader:\n",
    "            # Move the inputs and targets to the device (GPU or CPU)\n",
    "            inputs = inputs.to(device)\n",
    "            targets = targets.to(device)\n",
    "            \n",
    "            # Forward pass\n",
    "            outputs = model(inputs)\n",
    "            val_loss = criterion(outputs, targets)\n",
    "            val_r2 = torchmetrics.functional.r2_score(outputs, targets)\n",
    "            \n",
    "            epoch_val_loss += val_loss.item()\n",
    "            epoch_val_r2 += val_r2.item()  \n",
    "        \n",
    "        # Compute the average validation loss and R2 for the epoch\n",
    "        avg_epoch_val_loss = epoch_val_loss / len(val_loader)\n",
    "        avg_epoch_val_r2 = epoch_val_r2 / len(val_loader)  \n",
    "        \n",
    "        # Append the validation loss and R2 to the lists\n",
    "        val_losses.append(avg_epoch_val_loss)\n",
    "        val_r2s.append(avg_epoch_val_r2)\n",
    "    \n",
    "    # Print the average loss and R2 for the epoch\n",
    "    print(f\"Epoch {epoch+1} - Training Loss: {avg_epoch_train_loss:.4f} Training R-squared: {avg_epoch_train_r2:.4f} Validation Loss: {avg_epoch_val_loss:.4f} Validation R-squared: {avg_epoch_val_r2:.4f}\")\n"
   ]
  },
  {
   "cell_type": "markdown",
   "id": "9dd4e72f",
   "metadata": {},
   "source": [
    "We stored the performance metrics at every epoch, so we can now plot the learning curves for both training and validation sets:"
   ]
  },
  {
   "cell_type": "code",
   "execution_count": 25,
   "id": "d21649dc",
   "metadata": {},
   "outputs": [
    {
     "data": {
      "image/png": "[encoded data removed]",
      "text/plain": [
       "<Figure size 640x480 with 1 Axes>"
      ]
     },
     "metadata": {},
     "output_type": "display_data"
    },
    {
     "data": {
      "image/png": "[encoded data removed]",
      "text/plain": [
       "<Figure size 640x480 with 1 Axes>"
      ]
     },
     "metadata": {},
     "output_type": "display_data"
    }
   ],
   "source": [
    "# Plot the training and validation loss\n",
    "plt.plot(train_losses, label='Training Loss')\n",
    "plt.plot(val_losses, label='Validation Loss')\n",
    "plt.legend()\n",
    "plt.title('Loss value at every epoch')\n",
    "plt.xlabel('Epoch (1-10)')\n",
    "plt.ylabel('Average MSE')\n",
    "plt.show()\n",
    "\n",
    "# Plot the training and validation R2 scores\n",
    "plt.plot(train_r2s, label='Training R2')\n",
    "plt.plot(val_r2s, label='Validation R2')\n",
    "plt.legend()\n",
    "plt.title('R2 Score at every epoch')\n",
    "plt.xlabel('Epoch (1-10)')\n",
    "plt.ylabel('Average Coefficient of determination (R2) value')\n",
    "plt.show()"
   ]
  },
  {
   "cell_type": "markdown",
   "id": "aee723d1",
   "metadata": {},
   "source": [
    "The model seems to be learning at every epoch and performance is quite high already, approaching R2 values in the low 90s! More importantly, it is clear that the model is **not overfitting**, as validation performance is actually a bit better than training performance. However, improvements are rather slow and we still have a long way to go. Namely, we need to set $k$ as a hyperparameter and test three different lengths: `{4, 6, 8}`. That is in addition to checking two different `learning rate` values `{0.001, 0.002}` and two different `dropout` values `{0.2, 0.5}`, and of course training for longer. "
   ]
  }
 ],
 "metadata": {
  "kernelspec": {
   "display_name": "Python 3 (ipykernel)",
   "language": "python",
   "name": "python3"
  },
  "language_info": {
   "codemirror_mode": {
    "name": "ipython",
    "version": 3
   },
   "file_extension": ".py",
   "mimetype": "text/x-python",
   "name": "python",
   "nbconvert_exporter": "python",
   "pygments_lexer": "ipython3",
   "version": "3.10.6"
  }
 },
 "nbformat": 4,
 "nbformat_minor": 5
}
